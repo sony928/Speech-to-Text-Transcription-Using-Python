{
 "cells": [
  {
   "cell_type": "markdown",
   "id": "fa865677-d88c-4af1-9d27-462f43072028",
   "metadata": {},
   "source": [
    "Note:\n",
    "This script demonstrates the implementation of a simple Speech-to-Text system using the SpeechRecognition library. It utilizes Google’s Speech-to-Text API to transcribe audio data from a .wav file into text.\n",
    "\n",
    "Key Points:\n",
    "\n",
    "Library Used:\n",
    "\n",
    "SpeechRecognition: A Python library that provides tools for speech recognition using various APIs and engines.\n",
    "\n",
    "Input Requirements:\n",
    "\n",
    "The input must be a valid .wav audio file. Ensure the file path is correctly specified and the audio file is accessible.\n",
    "\n",
    "Steps in the Code:\n",
    "\n",
    "Initialize the Recognizer object.\n",
    "\n",
    "Load and process the audio file using AudioFile.\n",
    "\n",
    "Use the recognize_google method to transcribe the audio into text.\n",
    "\n",
    "Advantages:\n",
    "\n",
    "Does not require downloading or setting up pre-trained models.\n",
    "\n",
    "Quick and lightweight, suitable for small transcription tasks.\n",
    "\n",
    "Requires an active internet connection as it relies on Google’s API.\n",
    "\n",
    "Error Handling:\n",
    "\n",
    "The script includes error handling to catch and display any issues during processing or transcription.\n",
    "\n",
    "Usage:\n",
    "\n",
    "Replace the audio_file path with the path to your .wav file.\n",
    "\n",
    "Run the script to get the transcribed text output.\n",
    "\n",
    "Deliverable:\n",
    "The script outputs the transcription of the input audio file or an error message if the process fails.\n",
    "\n"
   ]
  },
  {
   "cell_type": "code",
   "execution_count": 14,
   "id": "8f267a2b-b71c-434a-874a-4e1aa3d6d090",
   "metadata": {},
   "outputs": [
    {
     "name": "stdout",
     "output_type": "stream",
     "text": [
      "Requirement already satisfied: SpeechRecognition in c:\\users\\saikiran\\anaconda3\\lib\\site-packages (3.14.2)Note: you may need to restart the kernel to use updated packages.\n",
      "\n",
      "Requirement already satisfied: typing-extensions in c:\\users\\saikiran\\anaconda3\\lib\\site-packages (from SpeechRecognition) (4.11.0)\n"
     ]
    }
   ],
   "source": [
    "pip install SpeechRecognition\n"
   ]
  },
  {
   "cell_type": "code",
   "execution_count": 16,
   "id": "268b16c7-4219-4b0d-8237-a2a453b2048e",
   "metadata": {},
   "outputs": [
    {
     "name": "stdout",
     "output_type": "stream",
     "text": [
      "Processing audio file...\n",
      "Transcribed Text: the still smell of old bearings it takes heat to bring out the order a cold storage find with him tacos Alpha store are my favourite is just for food is the hard cross bun\n"
     ]
    }
   ],
   "source": [
    "import speech_recognition as sr\n",
    "\n",
    "def transcribe_audio_speechrecognition(audio_file):\n",
    "    try:\n",
    "        # Initialize recognizer\n",
    "        recognizer = sr.Recognizer()\n",
    "\n",
    "        # Load the audio file\n",
    "        with sr.AudioFile(audio_file) as source:\n",
    "            print(\"Processing audio file...\")\n",
    "            audio_data = recognizer.record(source)\n",
    "\n",
    "        # Transcribe audio\n",
    "        transcription = recognizer.recognize_google(audio_data)\n",
    "        return transcription\n",
    "\n",
    "    except Exception as e:\n",
    "        return f\"An error occurred: {str(e)}\"\n",
    "\n",
    "# Path to the audio file\n",
    "audio_file = r\"C:\\Users\\saikiran\\Code tech tasks\\harvard.wav\\harvard.wav\"\n",
    "\n",
    "# Perform transcription\n",
    "transcribed_text = transcribe_audio_speechrecognition(audio_file)\n",
    "print(\"Transcribed Text:\", transcribed_text)\n"
   ]
  },
  {
   "cell_type": "code",
   "execution_count": null,
   "id": "aa81c11b-8a77-4d68-b91b-44f6365b3611",
   "metadata": {},
   "outputs": [],
   "source": []
  },
  {
   "cell_type": "code",
   "execution_count": null,
   "id": "d035c8c0-04eb-45e0-90b9-4ee7b5a9c73f",
   "metadata": {},
   "outputs": [],
   "source": []
  },
  {
   "cell_type": "code",
   "execution_count": null,
   "id": "aefa040f-f4a0-43e6-8410-f7ecc79c7b6a",
   "metadata": {},
   "outputs": [],
   "source": []
  }
 ],
 "metadata": {
  "kernelspec": {
   "display_name": "Python 3 (ipykernel)",
   "language": "python",
   "name": "python3"
  },
  "language_info": {
   "codemirror_mode": {
    "name": "ipython",
    "version": 3
   },
   "file_extension": ".py",
   "mimetype": "text/x-python",
   "name": "python",
   "nbconvert_exporter": "python",
   "pygments_lexer": "ipython3",
   "version": "3.12.4"
  }
 },
 "nbformat": 4,
 "nbformat_minor": 5
}
